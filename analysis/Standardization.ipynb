{
 "cells": [
  {
   "cell_type": "code",
   "execution_count": 2,
   "metadata": {},
   "outputs": [
    {
     "name": "stderr",
     "output_type": "stream",
     "text": [
      "── Attaching packages ─────────────────────────────────────── tidyverse 1.2.1 ──\n",
      "✔ ggplot2 3.0.0     ✔ purrr   0.2.5\n",
      "✔ tibble  1.4.2     ✔ dplyr   0.7.6\n",
      "✔ tidyr   0.8.1     ✔ stringr 1.3.1\n",
      "✔ readr   1.1.1     ✔ forcats 0.3.0\n",
      "── Conflicts ────────────────────────────────────────── tidyverse_conflicts() ──\n",
      "✖ dplyr::filter() masks stats::filter()\n",
      "✖ dplyr::lag()    masks stats::lag()\n"
     ]
    }
   ],
   "source": [
    "library(tidyverse)"
   ]
  },
  {
   "cell_type": "code",
   "execution_count": 3,
   "metadata": {},
   "outputs": [],
   "source": [
    "stemming <- read.table(\"../stemming-simple/all.ten\", col.names=c(\"run\", \"coll\", \"meas\", \"topic\", \"score\"))\n",
    "stemming$topic <- factor(stemming$topic)\n"
   ]
  },
  {
   "cell_type": "markdown",
   "metadata": {},
   "source": [
    "# Collect standardization factors\n",
    "\n",
    "For TREC 6,7,8, and Terabyte 2004-2006, we will use the factors from the Webber, Moffat, and Zobel (2008) paper.  For Blogs06, we will compute them using all runs submitted in all three blog tracks."
   ]
  },
  {
   "cell_type": "code",
   "execution_count": 4,
   "metadata": {},
   "outputs": [
    {
     "data": {
      "text/plain": [
       "       X             SP                  AP                DCG         \n",
       " Min.   :701   Min.   :  0.04684   Min.   :0.009147   Min.   : 0.2772  \n",
       " 1st Qu.:714   1st Qu.:  7.81094   1st Qu.:0.091050   1st Qu.: 6.5689  \n",
       " Median :726   Median : 20.23941   Median :0.163274   Median :11.4601  \n",
       " Mean   :726   Mean   : 37.97336   Mean   :0.165662   Mean   :14.0582  \n",
       " 3rd Qu.:738   3rd Qu.: 45.90068   3rd Qu.:0.220907   3rd Qu.:17.9318  \n",
       " Max.   :750   Max.   :158.50777   Max.   :0.459123   Max.   :38.8269  \n",
       "      nDCG              VDCG             nVDCG              P.10         \n",
       " Min.   :0.06771   Min.   : 0.2637   Min.   :0.07249   Min.   :0.008571  \n",
       " 1st Qu.:0.29016   1st Qu.: 6.3638   1st Qu.:0.29317   1st Qu.:0.250000  \n",
       " Median :0.36945   Median :11.0343   Median :0.37314   Median :0.411429  \n",
       " Mean   :0.37403   Mean   :13.7114   Mean   :0.37452   Mean   :0.403703  \n",
       " 3rd Qu.:0.45929   3rd Qu.:17.4420   3rd Qu.:0.45584   3rd Qu.:0.537143  \n",
       " Max.   :0.68450   Max.   :38.1382   Max.   :0.68527   Max.   :0.830000  \n",
       "       RR              RBP.8            RBP.95              RP        \n",
       " Min.   :0.03282   Min.   :0.0131   Min.   :0.00625   Min.   :0.0102  \n",
       " 1st Qu.:0.43326   1st Qu.:0.2583   1st Qu.:0.22062   1st Qu.:0.1453  \n",
       " Median :0.62189   Median :0.4157   Median :0.35923   Median :0.2099  \n",
       " Mean   :0.59724   Mean   :0.4160   Mean   :0.35346   Mean   :0.2173  \n",
       " 3rd Qu.:0.78086   3rd Qu.:0.5591   3rd Qu.:0.44827   3rd Qu.:0.2964  \n",
       " Max.   :0.90345   Max.   :0.8277   Max.   :0.79435   Max.   :0.4723  "
      ]
     },
     "metadata": {},
     "output_type": "display_data"
    }
   ],
   "source": [
    "wmz.tb.04.mn <- read.csv(\"std-data/std/trec2004.tb.mn.csv\")\n",
    "summary(wmz.tb.04.mn)"
   ]
  },
  {
   "cell_type": "code",
   "execution_count": 5,
   "metadata": {},
   "outputs": [
    {
     "data": {
      "text/plain": [
       "     topic          mean                sd         \n",
       " Min.   :701   Min.   :0.009147   Min.   :0.02173  \n",
       " 1st Qu.:739   1st Qu.:0.135335   1st Qu.:0.09247  \n",
       " Median :776   Median :0.218238   Median :0.13215  \n",
       " Mean   :776   Mean   :0.238902   Mean   :0.12858  \n",
       " 3rd Qu.:813   3rd Qu.:0.324351   3rd Qu.:0.16413  \n",
       " Max.   :850   Max.   :0.647560   Max.   :0.26398  "
      ]
     },
     "metadata": {},
     "output_type": "display_data"
    }
   ],
   "source": [
    "wmz.tb.04.sd <- read.csv(\"std-data/std/trec2004.tb.sd.csv\")\n",
    "wmz.tb.05.mn <- read.csv(\"std-data/std/trec2005.tb.mn.csv\")\n",
    "wmz.tb.05.sd <- read.csv(\"std-data/std/trec2005.tb.sd.csv\")\n",
    "wmz.tb.06.mn <- read.csv(\"std-data/std/trec2006.tb.adhoc.mn.csv\")\n",
    "wmz.tb.06.sd <- read.csv(\"std-data/std/trec2006.tb.adhoc.sd.csv\")\n",
    "wmz.tb <- cbind(\n",
    "    rbind(select(wmz.tb.04.mn, X, AP), select(wmz.tb.05.mn, X, AP), select(wmz.tb.06.mn, X, AP)),\n",
    "    rbind(select(wmz.tb.04.sd, AP), select(wmz.tb.05.sd, AP), select(wmz.tb.06.sd, AP)))\n",
    "colnames(wmz.tb) <- c(\"topic\", \"mean\", \"sd\")\n",
    "summary(wmz.tb)"
   ]
  },
  {
   "cell_type": "code",
   "execution_count": 6,
   "metadata": {},
   "outputs": [
    {
     "data": {
      "text/html": [
       "<table>\n",
       "<thead><tr><th scope=col>topic</th><th scope=col>mean</th><th scope=col>sd</th></tr></thead>\n",
       "<tbody>\n",
       "\t<tr><td>301       </td><td>0.12117027</td><td>0.15444657</td></tr>\n",
       "\t<tr><td>302       </td><td>0.39023378</td><td>0.18481751</td></tr>\n",
       "\t<tr><td>303       </td><td>0.16420946</td><td>0.15358026</td></tr>\n",
       "\t<tr><td>304       </td><td>0.06940676</td><td>0.07698976</td></tr>\n",
       "\t<tr><td>305       </td><td>0.01190541</td><td>0.02123657</td></tr>\n",
       "\t<tr><td>306       </td><td>0.09856892</td><td>0.08275474</td></tr>\n",
       "</tbody>\n",
       "</table>\n"
      ],
      "text/latex": [
       "\\begin{tabular}{r|lll}\n",
       " topic & mean & sd\\\\\n",
       "\\hline\n",
       "\t 301        & 0.12117027 & 0.15444657\\\\\n",
       "\t 302        & 0.39023378 & 0.18481751\\\\\n",
       "\t 303        & 0.16420946 & 0.15358026\\\\\n",
       "\t 304        & 0.06940676 & 0.07698976\\\\\n",
       "\t 305        & 0.01190541 & 0.02123657\\\\\n",
       "\t 306        & 0.09856892 & 0.08275474\\\\\n",
       "\\end{tabular}\n"
      ],
      "text/markdown": [
       "\n",
       "topic | mean | sd | \n",
       "|---|---|---|---|---|---|\n",
       "| 301        | 0.12117027 | 0.15444657 | \n",
       "| 302        | 0.39023378 | 0.18481751 | \n",
       "| 303        | 0.16420946 | 0.15358026 | \n",
       "| 304        | 0.06940676 | 0.07698976 | \n",
       "| 305        | 0.01190541 | 0.02123657 | \n",
       "| 306        | 0.09856892 | 0.08275474 | \n",
       "\n",
       "\n"
      ],
      "text/plain": [
       "  topic mean       sd        \n",
       "1 301   0.12117027 0.15444657\n",
       "2 302   0.39023378 0.18481751\n",
       "3 303   0.16420946 0.15358026\n",
       "4 304   0.06940676 0.07698976\n",
       "5 305   0.01190541 0.02123657\n",
       "6 306   0.09856892 0.08275474"
      ]
     },
     "metadata": {},
     "output_type": "display_data"
    }
   ],
   "source": [
    "wmz.trec6.mn <- read.csv(\"std-data/std/trec6.adhoc.mn.csv\")\n",
    "wmz.trec6.sd <- read.csv(\"std-data/std/trec6.adhoc.sd.csv\")\n",
    "wmz.trec7.mn <- read.csv(\"std-data/std/trec7.adhoc.mn.csv\")\n",
    "wmz.trec7.sd <- read.csv(\"std-data/std/trec7.adhoc.sd.csv\")\n",
    "wmz.trec8.mn <- read.csv(\"std-data/std/trec8.adhoc.mn.csv\")\n",
    "wmz.trec8.sd <- read.csv(\"std-data/std/trec8.adhoc.sd.csv\")\n",
    "wmz.cd45 <- cbind(\n",
    "    rbind(select(wmz.trec6.mn, X, AP), select(wmz.trec7.mn, X, AP), select(wmz.trec8.mn, X, AP)),\n",
    "    rbind(select(wmz.trec6.sd, AP), select(wmz.trec7.sd, AP), select(wmz.trec8.mn, AP)))\n",
    "colnames(wmz.cd45) <- c(\"topic\", \"mean\", \"sd\")\n",
    "head(wmz.cd45)"
   ]
  },
  {
   "cell_type": "code",
   "execution_count": 7,
   "metadata": {},
   "outputs": [
    {
     "data": {
      "text/plain": [
       "          coll                 run         meas           topic       \n",
       " blog06.2006: 2850   B1DocOpinAZN:  150   map:40500   Min.   : 851.0  \n",
       " blog06.2007: 2850   B1DocOpinSWN:  150               1st Qu.: 880.0  \n",
       " blog06.2008:34800   B1PsgOpinAZN:  150               Median : 913.0  \n",
       "                     B1PsgOpinSWN:  150               Mean   : 932.8  \n",
       "                     B2DocOpinAZN:  150               3rd Qu.:1007.0  \n",
       "                     B2DocOpinSWN:  150               Max.   :1050.0  \n",
       "                     (Other)     :39600                               \n",
       "     score       \n",
       " Min.   :0.0000  \n",
       " 1st Qu.:0.1633  \n",
       " Median :0.3444  \n",
       " Mean   :0.3454  \n",
       " 3rd Qu.:0.5065  \n",
       " Max.   :0.9826  \n",
       "                 "
      ]
     },
     "metadata": {},
     "output_type": "display_data"
    }
   ],
   "source": [
    "blog06 <- read.table(\"std-data/blog-maps\", col.names=c(\"coll\", \"run\", \"meas\", \"topic\", \"score\"))\n",
    "summary(blog06)"
   ]
  },
  {
   "cell_type": "code",
   "execution_count": 8,
   "metadata": {},
   "outputs": [
    {
     "data": {
      "text/html": [
       "<table>\n",
       "<thead><tr><th scope=col>topic</th><th scope=col>mean</th><th scope=col>sd</th></tr></thead>\n",
       "<tbody>\n",
       "\t<tr><td>851       </td><td>0.33758468</td><td>0.15975621</td></tr>\n",
       "\t<tr><td>852       </td><td>0.28666561</td><td>0.19240981</td></tr>\n",
       "\t<tr><td>853       </td><td>0.09178295</td><td>0.06540501</td></tr>\n",
       "\t<tr><td>854       </td><td>0.40109855</td><td>0.14499622</td></tr>\n",
       "\t<tr><td>855       </td><td>0.33268815</td><td>0.17501772</td></tr>\n",
       "\t<tr><td>856       </td><td>0.38728988</td><td>0.19323377</td></tr>\n",
       "</tbody>\n",
       "</table>\n"
      ],
      "text/latex": [
       "\\begin{tabular}{r|lll}\n",
       " topic & mean & sd\\\\\n",
       "\\hline\n",
       "\t 851        & 0.33758468 & 0.15975621\\\\\n",
       "\t 852        & 0.28666561 & 0.19240981\\\\\n",
       "\t 853        & 0.09178295 & 0.06540501\\\\\n",
       "\t 854        & 0.40109855 & 0.14499622\\\\\n",
       "\t 855        & 0.33268815 & 0.17501772\\\\\n",
       "\t 856        & 0.38728988 & 0.19323377\\\\\n",
       "\\end{tabular}\n"
      ],
      "text/markdown": [
       "\n",
       "topic | mean | sd | \n",
       "|---|---|---|---|---|---|\n",
       "| 851        | 0.33758468 | 0.15975621 | \n",
       "| 852        | 0.28666561 | 0.19240981 | \n",
       "| 853        | 0.09178295 | 0.06540501 | \n",
       "| 854        | 0.40109855 | 0.14499622 | \n",
       "| 855        | 0.33268815 | 0.17501772 | \n",
       "| 856        | 0.38728988 | 0.19323377 | \n",
       "\n",
       "\n"
      ],
      "text/plain": [
       "  topic mean       sd        \n",
       "1 851   0.33758468 0.15975621\n",
       "2 852   0.28666561 0.19240981\n",
       "3 853   0.09178295 0.06540501\n",
       "4 854   0.40109855 0.14499622\n",
       "5 855   0.33268815 0.17501772\n",
       "6 856   0.38728988 0.19323377"
      ]
     },
     "metadata": {},
     "output_type": "display_data"
    }
   ],
   "source": [
    "blog.factors <- blog06 %>% group_by(topic) %>% summarize(mean=mean(score), sd=sd(score))\n",
    "head(blog.factors)"
   ]
  },
  {
   "cell_type": "code",
   "execution_count": 9,
   "metadata": {},
   "outputs": [
    {
     "data": {
      "text/html": [
       "<table>\n",
       "<thead><tr><th scope=col>topic</th><th scope=col>mean</th><th scope=col>sd</th></tr></thead>\n",
       "<tbody>\n",
       "\t<tr><td>301       </td><td>0.12117027</td><td>0.15444657</td></tr>\n",
       "\t<tr><td>302       </td><td>0.39023378</td><td>0.18481751</td></tr>\n",
       "\t<tr><td>303       </td><td>0.16420946</td><td>0.15358026</td></tr>\n",
       "\t<tr><td>304       </td><td>0.06940676</td><td>0.07698976</td></tr>\n",
       "\t<tr><td>305       </td><td>0.01190541</td><td>0.02123657</td></tr>\n",
       "\t<tr><td>306       </td><td>0.09856892</td><td>0.08275474</td></tr>\n",
       "</tbody>\n",
       "</table>\n"
      ],
      "text/latex": [
       "\\begin{tabular}{r|lll}\n",
       " topic & mean & sd\\\\\n",
       "\\hline\n",
       "\t 301        & 0.12117027 & 0.15444657\\\\\n",
       "\t 302        & 0.39023378 & 0.18481751\\\\\n",
       "\t 303        & 0.16420946 & 0.15358026\\\\\n",
       "\t 304        & 0.06940676 & 0.07698976\\\\\n",
       "\t 305        & 0.01190541 & 0.02123657\\\\\n",
       "\t 306        & 0.09856892 & 0.08275474\\\\\n",
       "\\end{tabular}\n"
      ],
      "text/markdown": [
       "\n",
       "topic | mean | sd | \n",
       "|---|---|---|---|---|---|\n",
       "| 301        | 0.12117027 | 0.15444657 | \n",
       "| 302        | 0.39023378 | 0.18481751 | \n",
       "| 303        | 0.16420946 | 0.15358026 | \n",
       "| 304        | 0.06940676 | 0.07698976 | \n",
       "| 305        | 0.01190541 | 0.02123657 | \n",
       "| 306        | 0.09856892 | 0.08275474 | \n",
       "\n",
       "\n"
      ],
      "text/plain": [
       "  topic mean       sd        \n",
       "1 301   0.12117027 0.15444657\n",
       "2 302   0.39023378 0.18481751\n",
       "3 303   0.16420946 0.15358026\n",
       "4 304   0.06940676 0.07698976\n",
       "5 305   0.01190541 0.02123657\n",
       "6 306   0.09856892 0.08275474"
      ]
     },
     "metadata": {},
     "output_type": "display_data"
    }
   ],
   "source": [
    "std.factors <- rbind(wmz.cd45, wmz.tb, blog.factors)\n",
    "std.factors$topic <- factor(std.factors$topic)\n",
    "head(std.factors)"
   ]
  },
  {
   "cell_type": "markdown",
   "metadata": {},
   "source": [
    "Now that we have standardization factors for all the topics in our experiments, and (lucky for us) the topic numbers don't overlap at all, we can make one big factor table, join it against the experiment data, and then standardize in one go."
   ]
  },
  {
   "cell_type": "code",
   "execution_count": 10,
   "metadata": {},
   "outputs": [
    {
     "name": "stderr",
     "output_type": "stream",
     "text": [
      "Warning message:\n",
      "“Column `topic` joining factors with different levels, coercing to character vector”"
     ]
    },
    {
     "data": {
      "text/html": [
       "<table>\n",
       "<thead><tr><th scope=col>run</th><th scope=col>coll</th><th scope=col>meas</th><th scope=col>topic</th><th scope=col>score</th><th scope=col>mean</th><th scope=col>sd</th><th scope=col>std</th></tr></thead>\n",
       "<tbody>\n",
       "\t<tr><td>no_stem     </td><td>blogs06.2008</td><td>map         </td><td>1001        </td><td>0.3825      </td><td>0.3697664   </td><td>0.13975714  </td><td>1.180928e-02</td></tr>\n",
       "\t<tr><td>no_stem     </td><td>blogs06.2008</td><td>map         </td><td>1002        </td><td>0.2251      </td><td>0.1484142   </td><td>0.08560553  </td><td>6.570064e-02</td></tr>\n",
       "\t<tr><td>no_stem     </td><td>blogs06.2008</td><td>map         </td><td>1003        </td><td>0.4884      </td><td>0.4215698   </td><td>0.14225690  </td><td>6.661059e-03</td></tr>\n",
       "\t<tr><td>no_stem     </td><td>blogs06.2008</td><td>map         </td><td>1004        </td><td>0.6242      </td><td>0.5896099   </td><td>0.11818018  </td><td>6.359743e-06</td></tr>\n",
       "\t<tr><td>no_stem     </td><td>blogs06.2008</td><td>map         </td><td>1005        </td><td>0.4914      </td><td>0.5018892   </td><td>0.12671932  </td><td>2.609695e-04</td></tr>\n",
       "\t<tr><td>no_stem     </td><td>blogs06.2008</td><td>map         </td><td>1006        </td><td>0.1787      </td><td>0.1996591   </td><td>0.08704201  </td><td>1.720969e-02</td></tr>\n",
       "</tbody>\n",
       "</table>\n"
      ],
      "text/latex": [
       "\\begin{tabular}{r|llllllll}\n",
       " run & coll & meas & topic & score & mean & sd & std\\\\\n",
       "\\hline\n",
       "\t no\\_stem    & blogs06.2008 & map          & 1001         & 0.3825       & 0.3697664    & 0.13975714   & 1.180928e-02\\\\\n",
       "\t no\\_stem    & blogs06.2008 & map          & 1002         & 0.2251       & 0.1484142    & 0.08560553   & 6.570064e-02\\\\\n",
       "\t no\\_stem    & blogs06.2008 & map          & 1003         & 0.4884       & 0.4215698    & 0.14225690   & 6.661059e-03\\\\\n",
       "\t no\\_stem    & blogs06.2008 & map          & 1004         & 0.6242       & 0.5896099    & 0.11818018   & 6.359743e-06\\\\\n",
       "\t no\\_stem    & blogs06.2008 & map          & 1005         & 0.4914       & 0.5018892    & 0.12671932   & 2.609695e-04\\\\\n",
       "\t no\\_stem    & blogs06.2008 & map          & 1006         & 0.1787       & 0.1996591    & 0.08704201   & 1.720969e-02\\\\\n",
       "\\end{tabular}\n"
      ],
      "text/markdown": [
       "\n",
       "run | coll | meas | topic | score | mean | sd | std | \n",
       "|---|---|---|---|---|---|\n",
       "| no_stem      | blogs06.2008 | map          | 1001         | 0.3825       | 0.3697664    | 0.13975714   | 1.180928e-02 | \n",
       "| no_stem      | blogs06.2008 | map          | 1002         | 0.2251       | 0.1484142    | 0.08560553   | 6.570064e-02 | \n",
       "| no_stem      | blogs06.2008 | map          | 1003         | 0.4884       | 0.4215698    | 0.14225690   | 6.661059e-03 | \n",
       "| no_stem      | blogs06.2008 | map          | 1004         | 0.6242       | 0.5896099    | 0.11818018   | 6.359743e-06 | \n",
       "| no_stem      | blogs06.2008 | map          | 1005         | 0.4914       | 0.5018892    | 0.12671932   | 2.609695e-04 | \n",
       "| no_stem      | blogs06.2008 | map          | 1006         | 0.1787       | 0.1996591    | 0.08704201   | 1.720969e-02 | \n",
       "\n",
       "\n"
      ],
      "text/plain": [
       "  run     coll         meas topic score  mean      sd         std         \n",
       "1 no_stem blogs06.2008 map  1001  0.3825 0.3697664 0.13975714 1.180928e-02\n",
       "2 no_stem blogs06.2008 map  1002  0.2251 0.1484142 0.08560553 6.570064e-02\n",
       "3 no_stem blogs06.2008 map  1003  0.4884 0.4215698 0.14225690 6.661059e-03\n",
       "4 no_stem blogs06.2008 map  1004  0.6242 0.5896099 0.11818018 6.359743e-06\n",
       "5 no_stem blogs06.2008 map  1005  0.4914 0.5018892 0.12671932 2.609695e-04\n",
       "6 no_stem blogs06.2008 map  1006  0.1787 0.1996591 0.08704201 1.720969e-02"
      ]
     },
     "metadata": {},
     "output_type": "display_data"
    }
   ],
   "source": [
    "stem.std <- stemming %>% \n",
    "    filter(!str_detect(coll, 'nyt'), meas == 'map') %>% \n",
    "    left_join(std.factors, by='topic') %>%\n",
    "    mutate(std = pnorm(score - mean / sd))\n",
    "head(stem.std)"
   ]
  },
  {
   "cell_type": "markdown",
   "metadata": {},
   "source": [
    "# Results for stemming\n",
    "\n",
    "First, let's just look at the raw scores without standardization. Compute the mean AP scores and look at the raw difference, then do a T-test within each collection."
   ]
  },
  {
   "cell_type": "code",
   "execution_count": 11,
   "metadata": {},
   "outputs": [],
   "source": [
    "options(digits=3)\n",
    "options(scipen=10)"
   ]
  },
  {
   "cell_type": "code",
   "execution_count": 12,
   "metadata": {},
   "outputs": [
    {
     "data": {
      "text/html": [
       "<table>\n",
       "<thead><tr><th scope=col>coll</th><th scope=col>krovetz</th><th scope=col>no_stem</th><th scope=col>mean.diff</th></tr></thead>\n",
       "<tbody>\n",
       "\t<tr><td>blogs06.2006</td><td>0.289       </td><td>0.302       </td><td>-0.0124     </td></tr>\n",
       "\t<tr><td>blogs06.2007</td><td>0.344       </td><td>0.359       </td><td>-0.0147     </td></tr>\n",
       "\t<tr><td>blogs06.2008</td><td>0.304       </td><td>0.318       </td><td>-0.0140     </td></tr>\n",
       "\t<tr><td>cd45.TREC6  </td><td>0.237       </td><td>0.178       </td><td> 0.0587     </td></tr>\n",
       "\t<tr><td>cd45.TREC7  </td><td>0.199       </td><td>0.186       </td><td> 0.0135     </td></tr>\n",
       "\t<tr><td>cd45.TREC8  </td><td>0.250       </td><td>0.213       </td><td> 0.0362     </td></tr>\n",
       "\t<tr><td>gov2.2004   </td><td>0.252       </td><td>0.239       </td><td> 0.0137     </td></tr>\n",
       "\t<tr><td>gov2.2005   </td><td>0.325       </td><td>0.278       </td><td> 0.0461     </td></tr>\n",
       "\t<tr><td>gov2.2006   </td><td>0.279       </td><td>0.277       </td><td> 0.0019     </td></tr>\n",
       "\t<tr><td>nyt         </td><td>0.460       </td><td>0.429       </td><td> 0.0313     </td></tr>\n",
       "</tbody>\n",
       "</table>\n"
      ],
      "text/latex": [
       "\\begin{tabular}{r|llll}\n",
       " coll & krovetz & no\\_stem & mean.diff\\\\\n",
       "\\hline\n",
       "\t blogs06.2006 & 0.289        & 0.302        & -0.0124     \\\\\n",
       "\t blogs06.2007 & 0.344        & 0.359        & -0.0147     \\\\\n",
       "\t blogs06.2008 & 0.304        & 0.318        & -0.0140     \\\\\n",
       "\t cd45.TREC6   & 0.237        & 0.178        &  0.0587     \\\\\n",
       "\t cd45.TREC7   & 0.199        & 0.186        &  0.0135     \\\\\n",
       "\t cd45.TREC8   & 0.250        & 0.213        &  0.0362     \\\\\n",
       "\t gov2.2004    & 0.252        & 0.239        &  0.0137     \\\\\n",
       "\t gov2.2005    & 0.325        & 0.278        &  0.0461     \\\\\n",
       "\t gov2.2006    & 0.279        & 0.277        &  0.0019     \\\\\n",
       "\t nyt          & 0.460        & 0.429        &  0.0313     \\\\\n",
       "\\end{tabular}\n"
      ],
      "text/markdown": [
       "\n",
       "coll | krovetz | no_stem | mean.diff | \n",
       "|---|---|---|---|---|---|---|---|---|---|\n",
       "| blogs06.2006 | 0.289        | 0.302        | -0.0124      | \n",
       "| blogs06.2007 | 0.344        | 0.359        | -0.0147      | \n",
       "| blogs06.2008 | 0.304        | 0.318        | -0.0140      | \n",
       "| cd45.TREC6   | 0.237        | 0.178        |  0.0587      | \n",
       "| cd45.TREC7   | 0.199        | 0.186        |  0.0135      | \n",
       "| cd45.TREC8   | 0.250        | 0.213        |  0.0362      | \n",
       "| gov2.2004    | 0.252        | 0.239        |  0.0137      | \n",
       "| gov2.2005    | 0.325        | 0.278        |  0.0461      | \n",
       "| gov2.2006    | 0.279        | 0.277        |  0.0019      | \n",
       "| nyt          | 0.460        | 0.429        |  0.0313      | \n",
       "\n",
       "\n"
      ],
      "text/plain": [
       "   coll         krovetz no_stem mean.diff\n",
       "1  blogs06.2006 0.289   0.302   -0.0124  \n",
       "2  blogs06.2007 0.344   0.359   -0.0147  \n",
       "3  blogs06.2008 0.304   0.318   -0.0140  \n",
       "4  cd45.TREC6   0.237   0.178    0.0587  \n",
       "5  cd45.TREC7   0.199   0.186    0.0135  \n",
       "6  cd45.TREC8   0.250   0.213    0.0362  \n",
       "7  gov2.2004    0.252   0.239    0.0137  \n",
       "8  gov2.2005    0.325   0.278    0.0461  \n",
       "9  gov2.2006    0.279   0.277    0.0019  \n",
       "10 nyt          0.460   0.429    0.0313  "
      ]
     },
     "metadata": {},
     "output_type": "display_data"
    }
   ],
   "source": [
    "stemming %>% \n",
    "    filter(meas == 'map') %>%\n",
    "    group_by(run, coll) %>% \n",
    "    summarize(map=mean(score)) %>% \n",
    "    spread(run, map) %>%\n",
    "    mutate(mean.diff = krovetz - no_stem)"
   ]
  },
  {
   "cell_type": "code",
   "execution_count": 13,
   "metadata": {},
   "outputs": [
    {
     "data": {
      "text/html": [
       "<table>\n",
       "<thead><tr><th scope=col>coll</th><th scope=col>p</th><th scope=col>ci_low</th><th scope=col>ci_hi</th></tr></thead>\n",
       "<tbody>\n",
       "\t<tr><td>blogs06.2006</td><td>0.075727    </td><td>-0.0261     </td><td>0.001334    </td></tr>\n",
       "\t<tr><td>blogs06.2007</td><td>0.107058    </td><td>-0.0328     </td><td>0.003301    </td></tr>\n",
       "\t<tr><td>blogs06.2008</td><td>0.059355    </td><td>-0.0286     </td><td>0.000574    </td></tr>\n",
       "\t<tr><td>cd45.TREC6  </td><td>0.009169    </td><td> 0.0152     </td><td>0.102225    </td></tr>\n",
       "\t<tr><td>cd45.TREC7  </td><td>0.291935    </td><td>-0.0120     </td><td>0.039086    </td></tr>\n",
       "\t<tr><td>cd45.TREC8  </td><td>0.003103    </td><td> 0.0128     </td><td>0.059644    </td></tr>\n",
       "\t<tr><td>gov2.2004   </td><td>0.313255    </td><td>-0.0133     </td><td>0.040784    </td></tr>\n",
       "\t<tr><td>gov2.2005   </td><td>0.000109    </td><td> 0.0241     </td><td>0.068149    </td></tr>\n",
       "\t<tr><td>gov2.2006   </td><td>0.883149    </td><td>-0.0239     </td><td>0.027684    </td></tr>\n",
       "\t<tr><td>nyt         </td><td>0.001412    </td><td> 0.0126     </td><td>0.050023    </td></tr>\n",
       "</tbody>\n",
       "</table>\n"
      ],
      "text/latex": [
       "\\begin{tabular}{r|llll}\n",
       " coll & p & ci\\_low & ci\\_hi\\\\\n",
       "\\hline\n",
       "\t blogs06.2006 & 0.075727     & -0.0261      & 0.001334    \\\\\n",
       "\t blogs06.2007 & 0.107058     & -0.0328      & 0.003301    \\\\\n",
       "\t blogs06.2008 & 0.059355     & -0.0286      & 0.000574    \\\\\n",
       "\t cd45.TREC6   & 0.009169     &  0.0152      & 0.102225    \\\\\n",
       "\t cd45.TREC7   & 0.291935     & -0.0120      & 0.039086    \\\\\n",
       "\t cd45.TREC8   & 0.003103     &  0.0128      & 0.059644    \\\\\n",
       "\t gov2.2004    & 0.313255     & -0.0133      & 0.040784    \\\\\n",
       "\t gov2.2005    & 0.000109     &  0.0241      & 0.068149    \\\\\n",
       "\t gov2.2006    & 0.883149     & -0.0239      & 0.027684    \\\\\n",
       "\t nyt          & 0.001412     &  0.0126      & 0.050023    \\\\\n",
       "\\end{tabular}\n"
      ],
      "text/markdown": [
       "\n",
       "coll | p | ci_low | ci_hi | \n",
       "|---|---|---|---|---|---|---|---|---|---|\n",
       "| blogs06.2006 | 0.075727     | -0.0261      | 0.001334     | \n",
       "| blogs06.2007 | 0.107058     | -0.0328      | 0.003301     | \n",
       "| blogs06.2008 | 0.059355     | -0.0286      | 0.000574     | \n",
       "| cd45.TREC6   | 0.009169     |  0.0152      | 0.102225     | \n",
       "| cd45.TREC7   | 0.291935     | -0.0120      | 0.039086     | \n",
       "| cd45.TREC8   | 0.003103     |  0.0128      | 0.059644     | \n",
       "| gov2.2004    | 0.313255     | -0.0133      | 0.040784     | \n",
       "| gov2.2005    | 0.000109     |  0.0241      | 0.068149     | \n",
       "| gov2.2006    | 0.883149     | -0.0239      | 0.027684     | \n",
       "| nyt          | 0.001412     |  0.0126      | 0.050023     | \n",
       "\n",
       "\n"
      ],
      "text/plain": [
       "   coll         p        ci_low  ci_hi   \n",
       "1  blogs06.2006 0.075727 -0.0261 0.001334\n",
       "2  blogs06.2007 0.107058 -0.0328 0.003301\n",
       "3  blogs06.2008 0.059355 -0.0286 0.000574\n",
       "4  cd45.TREC6   0.009169  0.0152 0.102225\n",
       "5  cd45.TREC7   0.291935 -0.0120 0.039086\n",
       "6  cd45.TREC8   0.003103  0.0128 0.059644\n",
       "7  gov2.2004    0.313255 -0.0133 0.040784\n",
       "8  gov2.2005    0.000109  0.0241 0.068149\n",
       "9  gov2.2006    0.883149 -0.0239 0.027684\n",
       "10 nyt          0.001412  0.0126 0.050023"
      ]
     },
     "metadata": {},
     "output_type": "display_data"
    }
   ],
   "source": [
    "stemming %>%\n",
    "    filter(meas == 'map') %>%\n",
    "    select(run, coll, topic, score) %>%\n",
    "    group_by(coll)%>%\n",
    "    summarize(p=t.test(score ~ run, paired=T)$p.value,\n",
    "              ci_low=t.test(score ~ run, paired=T)$conf.int[1],\n",
    "              ci_hi=t.test(score ~ run, paired=T)$conf.int[2])"
   ]
  },
  {
   "cell_type": "markdown",
   "metadata": {},
   "source": [
    "# Standardization for the Stemming experiment\n",
    "\n",
    "Now, let's compute the mean standardized AP for each run, and the difference."
   ]
  },
  {
   "cell_type": "code",
   "execution_count": 14,
   "metadata": {},
   "outputs": [
    {
     "data": {
      "text/html": [
       "<table>\n",
       "<thead><tr><th scope=col>coll</th><th scope=col>krovetz</th><th scope=col>no_stem</th><th scope=col>mean.diff</th></tr></thead>\n",
       "<tbody>\n",
       "\t<tr><td>blogs06.2006</td><td>0.0604      </td><td>0.0621      </td><td>-0.001723   </td></tr>\n",
       "\t<tr><td>blogs06.2007</td><td>0.0375      </td><td>0.0385      </td><td>-0.000953   </td></tr>\n",
       "\t<tr><td>blogs06.2008</td><td>0.0358      </td><td>0.0370      </td><td>-0.001248   </td></tr>\n",
       "\t<tr><td>cd45.TREC6  </td><td>0.1992      </td><td>0.1861      </td><td> 0.013061   </td></tr>\n",
       "\t<tr><td>cd45.TREC7  </td><td>0.1217      </td><td>0.1200      </td><td> 0.001688   </td></tr>\n",
       "\t<tr><td>cd45.TREC8  </td><td>0.2314      </td><td>0.2202      </td><td> 0.011271   </td></tr>\n",
       "\t<tr><td>gov2.2004   </td><td>0.1560      </td><td>0.1530      </td><td> 0.003072   </td></tr>\n",
       "\t<tr><td>gov2.2005   </td><td>0.0620      </td><td>0.0582      </td><td> 0.003833   </td></tr>\n",
       "\t<tr><td>gov2.2006   </td><td>0.0667      </td><td>0.0677      </td><td>-0.001041   </td></tr>\n",
       "</tbody>\n",
       "</table>\n"
      ],
      "text/latex": [
       "\\begin{tabular}{r|llll}\n",
       " coll & krovetz & no\\_stem & mean.diff\\\\\n",
       "\\hline\n",
       "\t blogs06.2006 & 0.0604       & 0.0621       & -0.001723   \\\\\n",
       "\t blogs06.2007 & 0.0375       & 0.0385       & -0.000953   \\\\\n",
       "\t blogs06.2008 & 0.0358       & 0.0370       & -0.001248   \\\\\n",
       "\t cd45.TREC6   & 0.1992       & 0.1861       &  0.013061   \\\\\n",
       "\t cd45.TREC7   & 0.1217       & 0.1200       &  0.001688   \\\\\n",
       "\t cd45.TREC8   & 0.2314       & 0.2202       &  0.011271   \\\\\n",
       "\t gov2.2004    & 0.1560       & 0.1530       &  0.003072   \\\\\n",
       "\t gov2.2005    & 0.0620       & 0.0582       &  0.003833   \\\\\n",
       "\t gov2.2006    & 0.0667       & 0.0677       & -0.001041   \\\\\n",
       "\\end{tabular}\n"
      ],
      "text/markdown": [
       "\n",
       "coll | krovetz | no_stem | mean.diff | \n",
       "|---|---|---|---|---|---|---|---|---|\n",
       "| blogs06.2006 | 0.0604       | 0.0621       | -0.001723    | \n",
       "| blogs06.2007 | 0.0375       | 0.0385       | -0.000953    | \n",
       "| blogs06.2008 | 0.0358       | 0.0370       | -0.001248    | \n",
       "| cd45.TREC6   | 0.1992       | 0.1861       |  0.013061    | \n",
       "| cd45.TREC7   | 0.1217       | 0.1200       |  0.001688    | \n",
       "| cd45.TREC8   | 0.2314       | 0.2202       |  0.011271    | \n",
       "| gov2.2004    | 0.1560       | 0.1530       |  0.003072    | \n",
       "| gov2.2005    | 0.0620       | 0.0582       |  0.003833    | \n",
       "| gov2.2006    | 0.0667       | 0.0677       | -0.001041    | \n",
       "\n",
       "\n"
      ],
      "text/plain": [
       "  coll         krovetz no_stem mean.diff\n",
       "1 blogs06.2006 0.0604  0.0621  -0.001723\n",
       "2 blogs06.2007 0.0375  0.0385  -0.000953\n",
       "3 blogs06.2008 0.0358  0.0370  -0.001248\n",
       "4 cd45.TREC6   0.1992  0.1861   0.013061\n",
       "5 cd45.TREC7   0.1217  0.1200   0.001688\n",
       "6 cd45.TREC8   0.2314  0.2202   0.011271\n",
       "7 gov2.2004    0.1560  0.1530   0.003072\n",
       "8 gov2.2005    0.0620  0.0582   0.003833\n",
       "9 gov2.2006    0.0667  0.0677  -0.001041"
      ]
     },
     "metadata": {},
     "output_type": "display_data"
    }
   ],
   "source": [
    "stem.std %>% \n",
    "    group_by(run, coll) %>% \n",
    "    summarize(map=mean(std)) %>% \n",
    "    spread(run, map) %>%\n",
    "    mutate(mean.diff = krovetz - no_stem)"
   ]
  },
  {
   "cell_type": "markdown",
   "metadata": {},
   "source": [
    "The mean difference doesn't tell us if there is a significant difference.  So we'll run a standard t-test and look at the p-value and the 95% confidence interval."
   ]
  },
  {
   "cell_type": "code",
   "execution_count": 15,
   "metadata": {
    "scrolled": false
   },
   "outputs": [
    {
     "data": {
      "text/html": [
       "<table>\n",
       "<thead><tr><th scope=col>coll</th><th scope=col>p</th><th scope=col>ci_low</th><th scope=col>ci_hi</th></tr></thead>\n",
       "<tbody>\n",
       "\t<tr><td>blogs06.2006</td><td>0.05803     </td><td>-0.00351    </td><td>0.0000609   </td></tr>\n",
       "\t<tr><td>blogs06.2007</td><td>0.17611     </td><td>-0.00235    </td><td>0.0004422   </td></tr>\n",
       "\t<tr><td>blogs06.2008</td><td>0.08656     </td><td>-0.00268    </td><td>0.0001860   </td></tr>\n",
       "\t<tr><td>cd45.TREC6  </td><td>0.02348     </td><td> 0.00184    </td><td>0.0242839   </td></tr>\n",
       "\t<tr><td>cd45.TREC7  </td><td>0.57527     </td><td>-0.00433    </td><td>0.0077021   </td></tr>\n",
       "\t<tr><td>cd45.TREC8  </td><td>0.00342     </td><td> 0.00391    </td><td>0.0186336   </td></tr>\n",
       "\t<tr><td>gov2.2004   </td><td>0.36307     </td><td>-0.00365    </td><td>0.0097987   </td></tr>\n",
       "\t<tr><td>gov2.2005   </td><td>0.00105     </td><td> 0.00162    </td><td>0.0060433   </td></tr>\n",
       "\t<tr><td>gov2.2006   </td><td>0.56789     </td><td>-0.00468    </td><td>0.0025959   </td></tr>\n",
       "</tbody>\n",
       "</table>\n"
      ],
      "text/latex": [
       "\\begin{tabular}{r|llll}\n",
       " coll & p & ci\\_low & ci\\_hi\\\\\n",
       "\\hline\n",
       "\t blogs06.2006 & 0.05803      & -0.00351     & 0.0000609   \\\\\n",
       "\t blogs06.2007 & 0.17611      & -0.00235     & 0.0004422   \\\\\n",
       "\t blogs06.2008 & 0.08656      & -0.00268     & 0.0001860   \\\\\n",
       "\t cd45.TREC6   & 0.02348      &  0.00184     & 0.0242839   \\\\\n",
       "\t cd45.TREC7   & 0.57527      & -0.00433     & 0.0077021   \\\\\n",
       "\t cd45.TREC8   & 0.00342      &  0.00391     & 0.0186336   \\\\\n",
       "\t gov2.2004    & 0.36307      & -0.00365     & 0.0097987   \\\\\n",
       "\t gov2.2005    & 0.00105      &  0.00162     & 0.0060433   \\\\\n",
       "\t gov2.2006    & 0.56789      & -0.00468     & 0.0025959   \\\\\n",
       "\\end{tabular}\n"
      ],
      "text/markdown": [
       "\n",
       "coll | p | ci_low | ci_hi | \n",
       "|---|---|---|---|---|---|---|---|---|\n",
       "| blogs06.2006 | 0.05803      | -0.00351     | 0.0000609    | \n",
       "| blogs06.2007 | 0.17611      | -0.00235     | 0.0004422    | \n",
       "| blogs06.2008 | 0.08656      | -0.00268     | 0.0001860    | \n",
       "| cd45.TREC6   | 0.02348      |  0.00184     | 0.0242839    | \n",
       "| cd45.TREC7   | 0.57527      | -0.00433     | 0.0077021    | \n",
       "| cd45.TREC8   | 0.00342      |  0.00391     | 0.0186336    | \n",
       "| gov2.2004    | 0.36307      | -0.00365     | 0.0097987    | \n",
       "| gov2.2005    | 0.00105      |  0.00162     | 0.0060433    | \n",
       "| gov2.2006    | 0.56789      | -0.00468     | 0.0025959    | \n",
       "\n",
       "\n"
      ],
      "text/plain": [
       "  coll         p       ci_low   ci_hi    \n",
       "1 blogs06.2006 0.05803 -0.00351 0.0000609\n",
       "2 blogs06.2007 0.17611 -0.00235 0.0004422\n",
       "3 blogs06.2008 0.08656 -0.00268 0.0001860\n",
       "4 cd45.TREC6   0.02348  0.00184 0.0242839\n",
       "5 cd45.TREC7   0.57527 -0.00433 0.0077021\n",
       "6 cd45.TREC8   0.00342  0.00391 0.0186336\n",
       "7 gov2.2004    0.36307 -0.00365 0.0097987\n",
       "8 gov2.2005    0.00105  0.00162 0.0060433\n",
       "9 gov2.2006    0.56789 -0.00468 0.0025959"
      ]
     },
     "metadata": {},
     "output_type": "display_data"
    }
   ],
   "source": [
    "stem.std %>%\n",
    "    select(run, coll, topic, std) %>% \n",
    "    group_by(coll) %>%\n",
    "    summarize(p=t.test(std ~ run, paired=T)$p.value,\n",
    "              ci_low=t.test(std ~ run, paired=T)$conf.int[1],\n",
    "              ci_hi=t.test(std ~ run, paired=T)$conf.int[2])"
   ]
  },
  {
   "cell_type": "markdown",
   "metadata": {},
   "source": [
    "Note that the p-values with standardization are different than they were on the raw scores.\n",
    "\n",
    "# Pseudorelevance feedback, now"
   ]
  },
  {
   "cell_type": "code",
   "execution_count": 17,
   "metadata": {},
   "outputs": [],
   "source": [
    "prf <- read.table(\"../rocchio/all.ten\", col.names=c(\"run\", \"coll\", \"meas\", \"topic\", \"score\"))\n",
    "prf$topic <- factor(prf$topic)"
   ]
  },
  {
   "cell_type": "code",
   "execution_count": 18,
   "metadata": {
    "scrolled": true
   },
   "outputs": [
    {
     "name": "stderr",
     "output_type": "stream",
     "text": [
      "Warning message:\n",
      "“Column `topic` joining factors with different levels, coercing to character vector”"
     ]
    },
    {
     "data": {
      "text/html": [
       "<table>\n",
       "<thead><tr><th scope=col>run</th><th scope=col>coll</th><th scope=col>meas</th><th scope=col>topic</th><th scope=col>score</th><th scope=col>mean</th><th scope=col>sd</th><th scope=col>std</th></tr></thead>\n",
       "<tbody>\n",
       "\t<tr><td>no_stem     </td><td>blogs06.2008</td><td>map         </td><td>1001        </td><td>0.383       </td><td>0.370       </td><td>0.1398      </td><td>0.01180928  </td></tr>\n",
       "\t<tr><td>no_stem     </td><td>blogs06.2008</td><td>map         </td><td>1002        </td><td>0.225       </td><td>0.148       </td><td>0.0856      </td><td>0.06570064  </td></tr>\n",
       "\t<tr><td>no_stem     </td><td>blogs06.2008</td><td>map         </td><td>1003        </td><td>0.488       </td><td>0.422       </td><td>0.1423      </td><td>0.00666106  </td></tr>\n",
       "\t<tr><td>no_stem     </td><td>blogs06.2008</td><td>map         </td><td>1004        </td><td>0.624       </td><td>0.590       </td><td>0.1182      </td><td>0.00000636  </td></tr>\n",
       "\t<tr><td>no_stem     </td><td>blogs06.2008</td><td>map         </td><td>1005        </td><td>0.491       </td><td>0.502       </td><td>0.1267      </td><td>0.00026097  </td></tr>\n",
       "\t<tr><td>no_stem     </td><td>blogs06.2008</td><td>map         </td><td>1006        </td><td>0.179       </td><td>0.200       </td><td>0.0870      </td><td>0.01720969  </td></tr>\n",
       "</tbody>\n",
       "</table>\n"
      ],
      "text/latex": [
       "\\begin{tabular}{r|llllllll}\n",
       " run & coll & meas & topic & score & mean & sd & std\\\\\n",
       "\\hline\n",
       "\t no\\_stem    & blogs06.2008 & map          & 1001         & 0.383        & 0.370        & 0.1398       & 0.01180928  \\\\\n",
       "\t no\\_stem    & blogs06.2008 & map          & 1002         & 0.225        & 0.148        & 0.0856       & 0.06570064  \\\\\n",
       "\t no\\_stem    & blogs06.2008 & map          & 1003         & 0.488        & 0.422        & 0.1423       & 0.00666106  \\\\\n",
       "\t no\\_stem    & blogs06.2008 & map          & 1004         & 0.624        & 0.590        & 0.1182       & 0.00000636  \\\\\n",
       "\t no\\_stem    & blogs06.2008 & map          & 1005         & 0.491        & 0.502        & 0.1267       & 0.00026097  \\\\\n",
       "\t no\\_stem    & blogs06.2008 & map          & 1006         & 0.179        & 0.200        & 0.0870       & 0.01720969  \\\\\n",
       "\\end{tabular}\n"
      ],
      "text/markdown": [
       "\n",
       "run | coll | meas | topic | score | mean | sd | std | \n",
       "|---|---|---|---|---|---|\n",
       "| no_stem      | blogs06.2008 | map          | 1001         | 0.383        | 0.370        | 0.1398       | 0.01180928   | \n",
       "| no_stem      | blogs06.2008 | map          | 1002         | 0.225        | 0.148        | 0.0856       | 0.06570064   | \n",
       "| no_stem      | blogs06.2008 | map          | 1003         | 0.488        | 0.422        | 0.1423       | 0.00666106   | \n",
       "| no_stem      | blogs06.2008 | map          | 1004         | 0.624        | 0.590        | 0.1182       | 0.00000636   | \n",
       "| no_stem      | blogs06.2008 | map          | 1005         | 0.491        | 0.502        | 0.1267       | 0.00026097   | \n",
       "| no_stem      | blogs06.2008 | map          | 1006         | 0.179        | 0.200        | 0.0870       | 0.01720969   | \n",
       "\n",
       "\n"
      ],
      "text/plain": [
       "  run     coll         meas topic score mean  sd     std       \n",
       "1 no_stem blogs06.2008 map  1001  0.383 0.370 0.1398 0.01180928\n",
       "2 no_stem blogs06.2008 map  1002  0.225 0.148 0.0856 0.06570064\n",
       "3 no_stem blogs06.2008 map  1003  0.488 0.422 0.1423 0.00666106\n",
       "4 no_stem blogs06.2008 map  1004  0.624 0.590 0.1182 0.00000636\n",
       "5 no_stem blogs06.2008 map  1005  0.491 0.502 0.1267 0.00026097\n",
       "6 no_stem blogs06.2008 map  1006  0.179 0.200 0.0870 0.01720969"
      ]
     },
     "metadata": {},
     "output_type": "display_data"
    }
   ],
   "source": [
    "prf.std <- prf %>% \n",
    "    filter(!str_detect(coll, 'nyt'), meas == 'map') %>% \n",
    "    left_join(std.factors, by='topic') %>%\n",
    "    mutate(std = pnorm(score - mean / sd))\n",
    "head(prf.std)"
   ]
  },
  {
   "cell_type": "markdown",
   "metadata": {},
   "source": [
    "# T-test on raw scores"
   ]
  },
  {
   "cell_type": "code",
   "execution_count": 19,
   "metadata": {},
   "outputs": [
    {
     "data": {
      "text/html": [
       "<table>\n",
       "<thead><tr><th scope=col>coll</th><th scope=col>no_stem</th><th scope=col>prf</th><th scope=col>mean.diff</th></tr></thead>\n",
       "<tbody>\n",
       "\t<tr><td>blogs06.2006</td><td>0.302       </td><td>0.303       </td><td>0.00156     </td></tr>\n",
       "\t<tr><td>blogs06.2007</td><td>0.359       </td><td>0.360       </td><td>0.00076     </td></tr>\n",
       "\t<tr><td>blogs06.2008</td><td>0.318       </td><td>0.324       </td><td>0.00591     </td></tr>\n",
       "\t<tr><td>cd45.TREC6  </td><td>0.178       </td><td>0.186       </td><td>0.00834     </td></tr>\n",
       "\t<tr><td>cd45.TREC7  </td><td>0.186       </td><td>0.202       </td><td>0.01594     </td></tr>\n",
       "\t<tr><td>cd45.TREC8  </td><td>0.213       </td><td>0.225       </td><td>0.01164     </td></tr>\n",
       "\t<tr><td>gov2.2004   </td><td>0.239       </td><td>0.259       </td><td>0.02005     </td></tr>\n",
       "\t<tr><td>gov2.2005   </td><td>0.278       </td><td>0.305       </td><td>0.02623     </td></tr>\n",
       "\t<tr><td>gov2.2006   </td><td>0.277       </td><td>0.301       </td><td>0.02423     </td></tr>\n",
       "\t<tr><td>nyt         </td><td>0.429       </td><td>0.452       </td><td>0.02274     </td></tr>\n",
       "</tbody>\n",
       "</table>\n"
      ],
      "text/latex": [
       "\\begin{tabular}{r|llll}\n",
       " coll & no\\_stem & prf & mean.diff\\\\\n",
       "\\hline\n",
       "\t blogs06.2006 & 0.302        & 0.303        & 0.00156     \\\\\n",
       "\t blogs06.2007 & 0.359        & 0.360        & 0.00076     \\\\\n",
       "\t blogs06.2008 & 0.318        & 0.324        & 0.00591     \\\\\n",
       "\t cd45.TREC6   & 0.178        & 0.186        & 0.00834     \\\\\n",
       "\t cd45.TREC7   & 0.186        & 0.202        & 0.01594     \\\\\n",
       "\t cd45.TREC8   & 0.213        & 0.225        & 0.01164     \\\\\n",
       "\t gov2.2004    & 0.239        & 0.259        & 0.02005     \\\\\n",
       "\t gov2.2005    & 0.278        & 0.305        & 0.02623     \\\\\n",
       "\t gov2.2006    & 0.277        & 0.301        & 0.02423     \\\\\n",
       "\t nyt          & 0.429        & 0.452        & 0.02274     \\\\\n",
       "\\end{tabular}\n"
      ],
      "text/markdown": [
       "\n",
       "coll | no_stem | prf | mean.diff | \n",
       "|---|---|---|---|---|---|---|---|---|---|\n",
       "| blogs06.2006 | 0.302        | 0.303        | 0.00156      | \n",
       "| blogs06.2007 | 0.359        | 0.360        | 0.00076      | \n",
       "| blogs06.2008 | 0.318        | 0.324        | 0.00591      | \n",
       "| cd45.TREC6   | 0.178        | 0.186        | 0.00834      | \n",
       "| cd45.TREC7   | 0.186        | 0.202        | 0.01594      | \n",
       "| cd45.TREC8   | 0.213        | 0.225        | 0.01164      | \n",
       "| gov2.2004    | 0.239        | 0.259        | 0.02005      | \n",
       "| gov2.2005    | 0.278        | 0.305        | 0.02623      | \n",
       "| gov2.2006    | 0.277        | 0.301        | 0.02423      | \n",
       "| nyt          | 0.429        | 0.452        | 0.02274      | \n",
       "\n",
       "\n"
      ],
      "text/plain": [
       "   coll         no_stem prf   mean.diff\n",
       "1  blogs06.2006 0.302   0.303 0.00156  \n",
       "2  blogs06.2007 0.359   0.360 0.00076  \n",
       "3  blogs06.2008 0.318   0.324 0.00591  \n",
       "4  cd45.TREC6   0.178   0.186 0.00834  \n",
       "5  cd45.TREC7   0.186   0.202 0.01594  \n",
       "6  cd45.TREC8   0.213   0.225 0.01164  \n",
       "7  gov2.2004    0.239   0.259 0.02005  \n",
       "8  gov2.2005    0.278   0.305 0.02623  \n",
       "9  gov2.2006    0.277   0.301 0.02423  \n",
       "10 nyt          0.429   0.452 0.02274  "
      ]
     },
     "metadata": {},
     "output_type": "display_data"
    }
   ],
   "source": [
    "prf %>% \n",
    "    filter(meas == 'map') %>%\n",
    "    group_by(run, coll) %>% \n",
    "    summarize(map=mean(score)) %>% \n",
    "    spread(run, map) %>%\n",
    "    mutate(mean.diff = prf - no_stem)"
   ]
  },
  {
   "cell_type": "code",
   "execution_count": 20,
   "metadata": {},
   "outputs": [
    {
     "data": {
      "text/html": [
       "<table>\n",
       "<thead><tr><th scope=col>coll</th><th scope=col>p</th><th scope=col>ci_low</th><th scope=col>ci_hi</th></tr></thead>\n",
       "<tbody>\n",
       "\t<tr><td>blogs06.2006</td><td>0.72716019  </td><td>-0.0105     </td><td> 0.00739    </td></tr>\n",
       "\t<tr><td>blogs06.2007</td><td>0.92680314  </td><td>-0.0173     </td><td> 0.01578    </td></tr>\n",
       "\t<tr><td>blogs06.2008</td><td>0.17502690  </td><td>-0.0145     </td><td> 0.00272    </td></tr>\n",
       "\t<tr><td>cd45.TREC6  </td><td>0.02350108  </td><td>-0.0155     </td><td>-0.00117    </td></tr>\n",
       "\t<tr><td>cd45.TREC7  </td><td>0.00008083  </td><td>-0.0234     </td><td>-0.00849    </td></tr>\n",
       "\t<tr><td>cd45.TREC8  </td><td>0.00210992  </td><td>-0.0188     </td><td>-0.00443    </td></tr>\n",
       "\t<tr><td>gov2.2004   </td><td>0.00187313  </td><td>-0.0323     </td><td>-0.00780    </td></tr>\n",
       "\t<tr><td>gov2.2005   </td><td>0.00034396  </td><td>-0.0399     </td><td>-0.01254    </td></tr>\n",
       "\t<tr><td>gov2.2006   </td><td>0.00285294  </td><td>-0.0397     </td><td>-0.00873    </td></tr>\n",
       "\t<tr><td>nyt         </td><td>0.00000353  </td><td>-0.0316     </td><td>-0.01385    </td></tr>\n",
       "</tbody>\n",
       "</table>\n"
      ],
      "text/latex": [
       "\\begin{tabular}{r|llll}\n",
       " coll & p & ci\\_low & ci\\_hi\\\\\n",
       "\\hline\n",
       "\t blogs06.2006 & 0.72716019   & -0.0105      &  0.00739    \\\\\n",
       "\t blogs06.2007 & 0.92680314   & -0.0173      &  0.01578    \\\\\n",
       "\t blogs06.2008 & 0.17502690   & -0.0145      &  0.00272    \\\\\n",
       "\t cd45.TREC6   & 0.02350108   & -0.0155      & -0.00117    \\\\\n",
       "\t cd45.TREC7   & 0.00008083   & -0.0234      & -0.00849    \\\\\n",
       "\t cd45.TREC8   & 0.00210992   & -0.0188      & -0.00443    \\\\\n",
       "\t gov2.2004    & 0.00187313   & -0.0323      & -0.00780    \\\\\n",
       "\t gov2.2005    & 0.00034396   & -0.0399      & -0.01254    \\\\\n",
       "\t gov2.2006    & 0.00285294   & -0.0397      & -0.00873    \\\\\n",
       "\t nyt          & 0.00000353   & -0.0316      & -0.01385    \\\\\n",
       "\\end{tabular}\n"
      ],
      "text/markdown": [
       "\n",
       "coll | p | ci_low | ci_hi | \n",
       "|---|---|---|---|---|---|---|---|---|---|\n",
       "| blogs06.2006 | 0.72716019   | -0.0105      |  0.00739     | \n",
       "| blogs06.2007 | 0.92680314   | -0.0173      |  0.01578     | \n",
       "| blogs06.2008 | 0.17502690   | -0.0145      |  0.00272     | \n",
       "| cd45.TREC6   | 0.02350108   | -0.0155      | -0.00117     | \n",
       "| cd45.TREC7   | 0.00008083   | -0.0234      | -0.00849     | \n",
       "| cd45.TREC8   | 0.00210992   | -0.0188      | -0.00443     | \n",
       "| gov2.2004    | 0.00187313   | -0.0323      | -0.00780     | \n",
       "| gov2.2005    | 0.00034396   | -0.0399      | -0.01254     | \n",
       "| gov2.2006    | 0.00285294   | -0.0397      | -0.00873     | \n",
       "| nyt          | 0.00000353   | -0.0316      | -0.01385     | \n",
       "\n",
       "\n"
      ],
      "text/plain": [
       "   coll         p          ci_low  ci_hi   \n",
       "1  blogs06.2006 0.72716019 -0.0105  0.00739\n",
       "2  blogs06.2007 0.92680314 -0.0173  0.01578\n",
       "3  blogs06.2008 0.17502690 -0.0145  0.00272\n",
       "4  cd45.TREC6   0.02350108 -0.0155 -0.00117\n",
       "5  cd45.TREC7   0.00008083 -0.0234 -0.00849\n",
       "6  cd45.TREC8   0.00210992 -0.0188 -0.00443\n",
       "7  gov2.2004    0.00187313 -0.0323 -0.00780\n",
       "8  gov2.2005    0.00034396 -0.0399 -0.01254\n",
       "9  gov2.2006    0.00285294 -0.0397 -0.00873\n",
       "10 nyt          0.00000353 -0.0316 -0.01385"
      ]
     },
     "metadata": {},
     "output_type": "display_data"
    }
   ],
   "source": [
    "prf %>%\n",
    "    filter(meas == 'map') %>%\n",
    "    select(run, coll, topic, score) %>%\n",
    "    group_by(coll)%>%\n",
    "    summarize(p=t.test(score ~ run, paired=T)$p.value,\n",
    "              ci_low=t.test(score ~ run, paired=T)$conf.int[1],\n",
    "              ci_hi=t.test(score ~ run, paired=T)$conf.int[2])"
   ]
  },
  {
   "cell_type": "markdown",
   "metadata": {},
   "source": [
    "# Now with standardization"
   ]
  },
  {
   "cell_type": "code",
   "execution_count": 21,
   "metadata": {},
   "outputs": [
    {
     "data": {
      "text/html": [
       "<table>\n",
       "<thead><tr><th scope=col>coll</th><th scope=col>no_stem</th><th scope=col>prf</th><th scope=col>mean.diff</th></tr></thead>\n",
       "<tbody>\n",
       "\t<tr><td>blogs06.2006</td><td>0.0621      </td><td>0.0623      </td><td> 0.0001630  </td></tr>\n",
       "\t<tr><td>blogs06.2007</td><td>0.0385      </td><td>0.0379      </td><td>-0.0005937  </td></tr>\n",
       "\t<tr><td>blogs06.2008</td><td>0.0370      </td><td>0.0370      </td><td>-0.0000368  </td></tr>\n",
       "\t<tr><td>cd45.TREC6  </td><td>0.1861      </td><td>0.1882      </td><td> 0.0021339  </td></tr>\n",
       "\t<tr><td>cd45.TREC7  </td><td>0.1200      </td><td>0.1222      </td><td> 0.0022102  </td></tr>\n",
       "\t<tr><td>cd45.TREC8  </td><td>0.2202      </td><td>0.2238      </td><td> 0.0035778  </td></tr>\n",
       "\t<tr><td>gov2.2004   </td><td>0.1530      </td><td>0.1575      </td><td> 0.0045336  </td></tr>\n",
       "\t<tr><td>gov2.2005   </td><td>0.0582      </td><td>0.0609      </td><td> 0.0026598  </td></tr>\n",
       "\t<tr><td>gov2.2006   </td><td>0.0677      </td><td>0.0711      </td><td> 0.0034394  </td></tr>\n",
       "</tbody>\n",
       "</table>\n"
      ],
      "text/latex": [
       "\\begin{tabular}{r|llll}\n",
       " coll & no\\_stem & prf & mean.diff\\\\\n",
       "\\hline\n",
       "\t blogs06.2006 & 0.0621       & 0.0623       &  0.0001630  \\\\\n",
       "\t blogs06.2007 & 0.0385       & 0.0379       & -0.0005937  \\\\\n",
       "\t blogs06.2008 & 0.0370       & 0.0370       & -0.0000368  \\\\\n",
       "\t cd45.TREC6   & 0.1861       & 0.1882       &  0.0021339  \\\\\n",
       "\t cd45.TREC7   & 0.1200       & 0.1222       &  0.0022102  \\\\\n",
       "\t cd45.TREC8   & 0.2202       & 0.2238       &  0.0035778  \\\\\n",
       "\t gov2.2004    & 0.1530       & 0.1575       &  0.0045336  \\\\\n",
       "\t gov2.2005    & 0.0582       & 0.0609       &  0.0026598  \\\\\n",
       "\t gov2.2006    & 0.0677       & 0.0711       &  0.0034394  \\\\\n",
       "\\end{tabular}\n"
      ],
      "text/markdown": [
       "\n",
       "coll | no_stem | prf | mean.diff | \n",
       "|---|---|---|---|---|---|---|---|---|\n",
       "| blogs06.2006 | 0.0621       | 0.0623       |  0.0001630   | \n",
       "| blogs06.2007 | 0.0385       | 0.0379       | -0.0005937   | \n",
       "| blogs06.2008 | 0.0370       | 0.0370       | -0.0000368   | \n",
       "| cd45.TREC6   | 0.1861       | 0.1882       |  0.0021339   | \n",
       "| cd45.TREC7   | 0.1200       | 0.1222       |  0.0022102   | \n",
       "| cd45.TREC8   | 0.2202       | 0.2238       |  0.0035778   | \n",
       "| gov2.2004    | 0.1530       | 0.1575       |  0.0045336   | \n",
       "| gov2.2005    | 0.0582       | 0.0609       |  0.0026598   | \n",
       "| gov2.2006    | 0.0677       | 0.0711       |  0.0034394   | \n",
       "\n",
       "\n"
      ],
      "text/plain": [
       "  coll         no_stem prf    mean.diff \n",
       "1 blogs06.2006 0.0621  0.0623  0.0001630\n",
       "2 blogs06.2007 0.0385  0.0379 -0.0005937\n",
       "3 blogs06.2008 0.0370  0.0370 -0.0000368\n",
       "4 cd45.TREC6   0.1861  0.1882  0.0021339\n",
       "5 cd45.TREC7   0.1200  0.1222  0.0022102\n",
       "6 cd45.TREC8   0.2202  0.2238  0.0035778\n",
       "7 gov2.2004    0.1530  0.1575  0.0045336\n",
       "8 gov2.2005    0.0582  0.0609  0.0026598\n",
       "9 gov2.2006    0.0677  0.0711  0.0034394"
      ]
     },
     "metadata": {},
     "output_type": "display_data"
    }
   ],
   "source": [
    "prf.std %>% \n",
    "    group_by(run, coll) %>% \n",
    "    summarize(map=mean(std)) %>% \n",
    "    spread(run, map) %>%\n",
    "    mutate(mean.diff = prf - no_stem)"
   ]
  },
  {
   "cell_type": "code",
   "execution_count": 22,
   "metadata": {},
   "outputs": [
    {
     "data": {
      "text/html": [
       "<table>\n",
       "<thead><tr><th scope=col>coll</th><th scope=col>p</th><th scope=col>ci_low</th><th scope=col>ci_hi</th></tr></thead>\n",
       "<tbody>\n",
       "\t<tr><td>blogs06.2006</td><td>0.773904    </td><td>-0.001297   </td><td> 0.000971   </td></tr>\n",
       "\t<tr><td>blogs06.2007</td><td>0.439652    </td><td>-0.000938   </td><td> 0.002125   </td></tr>\n",
       "\t<tr><td>blogs06.2008</td><td>0.947174    </td><td>-0.001074   </td><td> 0.001148   </td></tr>\n",
       "\t<tr><td>cd45.TREC6  </td><td>0.073997    </td><td>-0.004483   </td><td> 0.000215   </td></tr>\n",
       "\t<tr><td>cd45.TREC7  </td><td>0.000169    </td><td>-0.003300   </td><td>-0.001120   </td></tr>\n",
       "\t<tr><td>cd45.TREC8  </td><td>0.002992    </td><td>-0.005879   </td><td>-0.001276   </td></tr>\n",
       "\t<tr><td>gov2.2004   </td><td>0.005248    </td><td>-0.007650   </td><td>-0.001417   </td></tr>\n",
       "\t<tr><td>gov2.2005   </td><td>0.003851    </td><td>-0.004421   </td><td>-0.000898   </td></tr>\n",
       "\t<tr><td>gov2.2006   </td><td>0.022515    </td><td>-0.006373   </td><td>-0.000506   </td></tr>\n",
       "</tbody>\n",
       "</table>\n"
      ],
      "text/latex": [
       "\\begin{tabular}{r|llll}\n",
       " coll & p & ci\\_low & ci\\_hi\\\\\n",
       "\\hline\n",
       "\t blogs06.2006 & 0.773904     & -0.001297    &  0.000971   \\\\\n",
       "\t blogs06.2007 & 0.439652     & -0.000938    &  0.002125   \\\\\n",
       "\t blogs06.2008 & 0.947174     & -0.001074    &  0.001148   \\\\\n",
       "\t cd45.TREC6   & 0.073997     & -0.004483    &  0.000215   \\\\\n",
       "\t cd45.TREC7   & 0.000169     & -0.003300    & -0.001120   \\\\\n",
       "\t cd45.TREC8   & 0.002992     & -0.005879    & -0.001276   \\\\\n",
       "\t gov2.2004    & 0.005248     & -0.007650    & -0.001417   \\\\\n",
       "\t gov2.2005    & 0.003851     & -0.004421    & -0.000898   \\\\\n",
       "\t gov2.2006    & 0.022515     & -0.006373    & -0.000506   \\\\\n",
       "\\end{tabular}\n"
      ],
      "text/markdown": [
       "\n",
       "coll | p | ci_low | ci_hi | \n",
       "|---|---|---|---|---|---|---|---|---|\n",
       "| blogs06.2006 | 0.773904     | -0.001297    |  0.000971    | \n",
       "| blogs06.2007 | 0.439652     | -0.000938    |  0.002125    | \n",
       "| blogs06.2008 | 0.947174     | -0.001074    |  0.001148    | \n",
       "| cd45.TREC6   | 0.073997     | -0.004483    |  0.000215    | \n",
       "| cd45.TREC7   | 0.000169     | -0.003300    | -0.001120    | \n",
       "| cd45.TREC8   | 0.002992     | -0.005879    | -0.001276    | \n",
       "| gov2.2004    | 0.005248     | -0.007650    | -0.001417    | \n",
       "| gov2.2005    | 0.003851     | -0.004421    | -0.000898    | \n",
       "| gov2.2006    | 0.022515     | -0.006373    | -0.000506    | \n",
       "\n",
       "\n"
      ],
      "text/plain": [
       "  coll         p        ci_low    ci_hi    \n",
       "1 blogs06.2006 0.773904 -0.001297  0.000971\n",
       "2 blogs06.2007 0.439652 -0.000938  0.002125\n",
       "3 blogs06.2008 0.947174 -0.001074  0.001148\n",
       "4 cd45.TREC6   0.073997 -0.004483  0.000215\n",
       "5 cd45.TREC7   0.000169 -0.003300 -0.001120\n",
       "6 cd45.TREC8   0.002992 -0.005879 -0.001276\n",
       "7 gov2.2004    0.005248 -0.007650 -0.001417\n",
       "8 gov2.2005    0.003851 -0.004421 -0.000898\n",
       "9 gov2.2006    0.022515 -0.006373 -0.000506"
      ]
     },
     "metadata": {},
     "output_type": "display_data"
    }
   ],
   "source": [
    "prf.std %>%\n",
    "    select(run, coll, topic, std) %>% \n",
    "    group_by(coll) %>%\n",
    "    summarize(p=t.test(std ~ run, paired=T)$p.value,\n",
    "              ci_low=t.test(std ~ run, paired=T)$conf.int[1],\n",
    "              ci_hi=t.test(std ~ run, paired=T)$conf.int[2])"
   ]
  }
 ],
 "metadata": {
  "kernelspec": {
   "display_name": "R",
   "language": "R",
   "name": "r"
  },
  "language_info": {
   "codemirror_mode": "r",
   "file_extension": ".r",
   "mimetype": "text/x-r-source",
   "name": "R",
   "pygments_lexer": "r",
   "version": "3.5.0"
  }
 },
 "nbformat": 4,
 "nbformat_minor": 2
}
